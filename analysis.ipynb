{
 "cells": [
  {
   "cell_type": "code",
   "execution_count": 245,
   "metadata": {},
   "outputs": [],
   "source": [
    "import pandas as pd\n",
    "import matplotlib.pyplot as plt\n",
    "import csv\n",
    "import re"
   ]
  },
  {
   "cell_type": "code",
   "execution_count": 246,
   "metadata": {},
   "outputs": [],
   "source": [
    "df = pd.read_csv('./out-csv/manual.csv', encoding='unicode_escape', quoting=csv.QUOTE_NONE)"
   ]
  },
  {
   "cell_type": "code",
   "execution_count": 247,
   "metadata": {},
   "outputs": [],
   "source": [
    "# tu = df[df['Day'] == 'we'][['5', '6']].map(lambda x: re.findall(r'[A-Za-z]-?[0-9]{1,3}', x))\n",
    "remove_student_batch_info = lambda x: re.sub(r'((fa)|(FA)|(sp)|(SP))[0-9][0-9]', '', x)\n",
    "remove_course_code = lambda x: re.sub(r'[A-Z]{3}[0-9]{3}', '', x)\n",
    "map_to_rooms = lambda x: re.findall(r'[A-Za-z]-?[0-9]{1,3}', remove_course_code(remove_student_batch_info(x)))\n",
    "tu = df.map(map_to_rooms)\n",
    "classes = set()\n",
    "for row in tu.iloc:\n",
    "    for c in row:\n",
    "        if c:\n",
    "            classes |= set(c)"
   ]
  },
  {
   "cell_type": "code",
   "execution_count": 248,
   "metadata": {},
   "outputs": [
    {
     "name": "stdout",
     "output_type": "stream",
     "text": [
      "A-2\n",
      "A-3\n",
      "A-5\n",
      "A6\n",
      "A-6\n",
      "A-7\n",
      "A-10\n",
      "A-11\n",
      "A-13\n",
      "A-14\n",
      "A-16\n",
      "A-17\n",
      "A20\n",
      "A21\n",
      "B-2\n",
      "B-3\n",
      "B-5\n",
      "B-6\n",
      "B-7\n",
      "B-12\n",
      "B-13\n",
      "B-16\n",
      "B-17\n",
      "B650\n",
      "B680\n",
      "C-1\n",
      "C-5\n",
      "C-6\n",
      "C-7\n",
      "C-8\n",
      "C-9\n",
      "C-11\n",
      "C-13\n",
      "C-14\n",
      "C-18\n",
      "C-19\n",
      "C101\n",
      "C210\n",
      "C211\n",
      "C241\n",
      "C441\n",
      "C494\n",
      "C604\n",
      "D-2\n",
      "D-3\n",
      "D-5\n",
      "D-6\n",
      "D-8\n",
      "D-9\n",
      "D-10\n",
      "D-11\n",
      "D-12\n",
      "D-13\n",
      "D-14\n",
      "D-101\n",
      "D-103\n",
      "D-106\n",
      "D-107\n",
      "D-109\n",
      "D-110\n",
      "D-111\n",
      "D-112\n",
      "D-113\n",
      "D-114\n",
      "D-115\n",
      "D-117\n",
      "D-118\n",
      "D-119\n",
      "G1\n",
      "G2\n",
      "G3\n",
      "G4\n",
      "G5\n",
      "N-1\n",
      "N-2\n",
      "N-3\n",
      "N-4\n",
      "N-5\n",
      "N-6\n",
      "N-7\n",
      "N-8\n",
      "N-9\n",
      "N-10\n",
      "N-13\n",
      "N-14\n",
      "N-18\n",
      "N-19\n",
      "N-21\n",
      "N-22\n",
      "N-23\n",
      "N-24\n",
      "N-25\n",
      "N-26\n",
      "O-1\n",
      "O4\n",
      "O100\n",
      "P-1\n",
      "P22\n",
      "S-1\n",
      "S-2\n",
      "S-3\n",
      "S-4\n"
     ]
    }
   ],
   "source": [
    "classes = {c.upper() for c in classes}\n",
    "sorted_cls = sorted(list(classes), key=lambda x: (x[0], int(x[1:] if x[1] != '-' else x[2:])))\n",
    "for sc in sorted_cls:\n",
    "    print(sc)"
   ]
  },
  {
   "cell_type": "code",
   "execution_count": 249,
   "metadata": {},
   "outputs": [],
   "source": [
    "all_classes = classes.copy()"
   ]
  },
  {
   "cell_type": "code",
   "execution_count": 250,
   "metadata": {},
   "outputs": [],
   "source": [
    "def get_classes_on_day_and_slot(day, slot):\n",
    "    df_ds = df[df['Day'] == day][[slot]].map(map_to_rooms)\n",
    "    classes = set()\n",
    "    for row in df_ds.iloc:\n",
    "        for c in row:\n",
    "            if c:\n",
    "                classes |= set(c)\n",
    "                classes = {c.upper() for c in classes}\n",
    "    return classes\n",
    "\n",
    "def sort_classes(classes):\n",
    "    return sorted(list(classes), key=lambda x: (x[0], int(x[1:] if x[1] != '-' else x[2:])))"
   ]
  },
  {
   "cell_type": "code",
   "execution_count": 251,
   "metadata": {},
   "outputs": [],
   "source": [
    "time_to_slot = {\n",
    "    '8:30': '1',\n",
    "    '9:00': '2',\n",
    "    '9:30': '3',\n",
    "    '10:00': '4',\n",
    "    '10:30': '5',\n",
    "    '11:00': '6',\n",
    "    '11:30': '7',\n",
    "    '12:00': '8',\n",
    "    '12:30': '9',\n",
    "    '13:00': '10',\n",
    "    '13:30': '11',\n",
    "    '14:00': '12',\n",
    "    '14:30': '13',\n",
    "    '15:00': '14',\n",
    "    '15:30': '15',\n",
    "    '16:00': '16',\n",
    "    '16:30': '17',\n",
    "    '17:00': '18',\n",
    "    '17:30': '19',\n",
    "    '19:00': '20',\n",
    "    }"
   ]
  },
  {
   "cell_type": "code",
   "execution_count": 252,
   "metadata": {},
   "outputs": [
    {
     "data": {
      "text/plain": [
       "['A-5',\n",
       " 'A-6',\n",
       " 'A-7',\n",
       " 'A-10',\n",
       " 'A-11',\n",
       " 'A-16',\n",
       " 'A20',\n",
       " 'A21',\n",
       " 'B-3',\n",
       " 'B-7',\n",
       " 'B-13',\n",
       " 'B-16',\n",
       " 'B650',\n",
       " 'B680',\n",
       " 'C210',\n",
       " 'C211',\n",
       " 'C241',\n",
       " 'C441',\n",
       " 'C494',\n",
       " 'C604',\n",
       " 'D-5',\n",
       " 'D-10',\n",
       " 'D-11',\n",
       " 'D-12',\n",
       " 'D-14',\n",
       " 'D-103',\n",
       " 'G1',\n",
       " 'G2',\n",
       " 'G3',\n",
       " 'G4',\n",
       " 'G5',\n",
       " 'N-10',\n",
       " 'N-13',\n",
       " 'N-14',\n",
       " 'O4',\n",
       " 'O100',\n",
       " 'P22',\n",
       " 'S-1',\n",
       " 'S-2',\n",
       " 'S-3',\n",
       " 'S-4']"
      ]
     },
     "execution_count": 252,
     "metadata": {},
     "output_type": "execute_result"
    }
   ],
   "source": [
    "tu_10_30_slots = get_classes_on_day_and_slot('tu', time_to_slot['10:30'])\n",
    "tu_11_00_slots = get_classes_on_day_and_slot('tu', time_to_slot['11:00'])\n",
    "\n",
    "free_slots = all_classes.difference(tu_10_30_slots).difference(tu_11_00_slots)\n",
    "sort_classes(free_slots)"
   ]
  },
  {
   "cell_type": "code",
   "execution_count": 253,
   "metadata": {},
   "outputs": [
    {
     "name": "stdout",
     "output_type": "stream",
     "text": [
      "['A24', 'D-119']\n",
      "['A23', 'D-118']\n",
      "['E240', 'A23', 'D-109']\n",
      "['P21', 'D-112']\n",
      "['D-2', 'P23']\n",
      "['M110', 'A24', 'D-114']\n",
      "['P24', 'D-106']\n",
      "['A24', 'D-107']\n",
      "['D-101', 'P22']\n",
      "['A23', 'D-115']\n",
      "['D-13', 'A21', 'A21']\n",
      "['P21', 'P21', 'P22', 'P22', 'A21', 'A21', 'D-111']\n",
      "['A24', 'D-9']\n",
      "['A23', 'D-6']\n",
      "['A22', 'D-117']\n",
      "['A22', 'D-113']\n",
      "['A21', 'A21', 'P22', 'D-110']\n",
      "['D-3', 'A23']\n",
      "['A24', 'D-8']\n"
     ]
    }
   ],
   "source": [
    "for i in df[df['Day'] == 'tu'][time_to_slot['10:30']].map(lambda x: re.findall(r'[A-Za-z]-?[0-9]{1,3}', x)).iloc:\n",
    "    if i and any(['D' in c for c in i]):\n",
    "        print(i)"
   ]
  },
  {
   "cell_type": "code",
   "execution_count": 254,
   "metadata": {},
   "outputs": [
    {
     "name": "stdout",
     "output_type": "stream",
     "text": [
      "Day                    tu\n",
      "1                        \n",
      "2                        \n",
      "3                        \n",
      "4                        \n",
      "5                        \n",
      "6      CSC336  SP23-BSE-C\n",
      "7      CSC336  SP23-BSE-C\n",
      "8                        \n",
      "9                        \n",
      "10                       \n",
      "11                       \n",
      "12                       \n",
      "13                       \n",
      "14                       \n",
      "15                       \n",
      "16                       \n",
      "17                       \n",
      "18                       \n",
      "19                       \n",
      "20                       \n",
      "Name: 546, dtype: object\n"
     ]
    }
   ],
   "source": [
    "for row in df.iloc:\n",
    "    if 'CSC336' in row['6'] and 'SP23-BSE-C' in row['6']:\n",
    "        print(row)"
   ]
  },
  {
   "cell_type": "code",
   "execution_count": 255,
   "metadata": {},
   "outputs": [
    {
     "data": {
      "text/plain": [
       "('FA23-BSM-A', '-BSM-A', 'FA23-BSM-A', '-BSM-A', [])"
      ]
     },
     "execution_count": 255,
     "metadata": {},
     "output_type": "execute_result"
    }
   ],
   "source": [
    "\"FA23-BSM-A\", remove_student_batch_info(\"FA23-BSM-A\"), remove_course_code(\"FA23-BSM-A\"), remove_course_code(remove_student_batch_info(\"FA23-BSM-A\")), re.findall(r'[A-Za-z]-?[0-9]{1,3}', remove_course_code(remove_student_batch_info(\"FA23-BSM-A\")))"
   ]
  }
 ],
 "metadata": {
  "kernelspec": {
   "display_name": "cui-tt",
   "language": "python",
   "name": "python3"
  },
  "language_info": {
   "codemirror_mode": {
    "name": "ipython",
    "version": 3
   },
   "file_extension": ".py",
   "mimetype": "text/x-python",
   "name": "python",
   "nbconvert_exporter": "python",
   "pygments_lexer": "ipython3",
   "version": "3.12.5"
  }
 },
 "nbformat": 4,
 "nbformat_minor": 2
}
